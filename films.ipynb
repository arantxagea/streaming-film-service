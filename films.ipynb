{
 "cells": [
  {
   "cell_type": "markdown",
   "metadata": {},
   "source": [
    "Import Pandas, Numpy, Matplotlib and Seaborn."
   ]
  },
  {
   "cell_type": "code",
   "execution_count": null,
   "metadata": {},
   "outputs": [],
   "source": [
    "import pandas as pd\n",
    "import numpy as np\n",
    "import matplotlib.pyplot as plt\n",
    "import seaborn as sns"
   ]
  },
  {
   "cell_type": "markdown",
   "metadata": {},
   "source": [
    "Read the csv file."
   ]
  },
  {
   "cell_type": "code",
   "execution_count": null,
   "metadata": {},
   "outputs": [],
   "source": [
    "df_movies = pd.read_csv('data/films.csv')\n",
    "df_movies"
   ]
  },
  {
   "cell_type": "markdown",
   "metadata": {},
   "source": [
    "Removing non alphanumeric characters from the movie titles using a function using replace."
   ]
  },
  {
   "cell_type": "code",
   "execution_count": null,
   "metadata": {},
   "outputs": [],
   "source": [
    "def normalize_title(title):\n",
    "    characters_to_remove = r'[!@#$%^&*<>?/():;\",.~`]: '\n",
    "    for c in characters_to_remove:\n",
    "        title = title.replace(c, '')\n",
    "    return title.lower()\n",
    "df_movies"
   ]
  },
  {
   "cell_type": "markdown",
   "metadata": {},
   "source": [
    "Remove NaN genres with `notna` plus a misplaced _Chad S.Taylor_ genre."
   ]
  },
  {
   "cell_type": "code",
   "execution_count": null,
   "metadata": {},
   "outputs": [],
   "source": [
    "df_movies = df_movies[df_movies.Genres.notna()]\n",
    "df_movies = df_movies[~df_movies.Genres.str.contains('Chad S. Taylor')]\n",
    "df_movies"
   ]
  },
  {
   "cell_type": "markdown",
   "metadata": {},
   "source": [
    "Transform Rotten Tomatoes registers into the same rating than Imdb by using rstrip and astype."
   ]
  },
  {
   "cell_type": "code",
   "execution_count": null,
   "metadata": {},
   "outputs": [],
   "source": [
    "df_movies['Rotten Tomatoes'] = df_movies['Rotten Tomatoes'].str.rstrip('%').astype(float) * 0.1\n",
    "df_movies['Av_Rating'] = df_movies[['IMDb','Rotten Tomatoes']].mean(axis=1, skipna=True)\n",
    "df_movies"
   ]
  },
  {
   "cell_type": "markdown",
   "metadata": {},
   "source": [
    "From here, data frame movies is going to be splitted into two different data frames, french_movies and non_french_movies. Rows are filtered based on whether their _Country_ field contains the string _France_, regardless of any other countries present (would be the case of co-productions). NaN values in the _Country_ column are removed in advance by using `notna`."
   ]
  },
  {
   "cell_type": "code",
   "execution_count": null,
   "metadata": {},
   "outputs": [],
   "source": [
    "french_movies = df_movies[df_movies.Country.notna()]\n",
    "french_movies = french_movies[french_movies.Country.str.contains('France')]\n",
    "french_movies.head()"
   ]
  },
  {
   "cell_type": "code",
   "execution_count": null,
   "metadata": {},
   "outputs": [],
   "source": [
    "non_french_movies = df_movies[df_movies.Country.notna()]\n",
    "non_french_movies = non_french_movies[~non_french_movies.Country.str.contains('France')]\n",
    "non_french_movies.head()"
   ]
  },
  {
   "cell_type": "markdown",
   "metadata": {},
   "source": [
    "Create a histogram with Matplotlib comparing runtime from french_movies and non_french_movies"
   ]
  },
  {
   "cell_type": "code",
   "execution_count": null,
   "metadata": {},
   "outputs": [],
   "source": [
    "fig, ax = plt.subplots()\n",
    "fig.set_size_inches(11,15)\n",
    "\n",
    "plt.hist(non_french_movies.Runtime, label=\"Non French movies\", bins=50, alpha= 0.7, color='blue', density=True)\n",
    "plt.hist(french_movies.Runtime, label='French movies', bins=50, alpha= 0.7, color='orange', density=True)\n",
    "fig.suptitle('Fig1: Comparison French and non French movies by runtime',fontweight='bold')\n",
    "plt.legend(['Non French','French'],loc='upper right')\n",
    "plt.show()"
   ]
  },
  {
   "cell_type": "markdown",
   "metadata": {},
   "source": [
    "Create a histogram with Matplotlib comparing rating from french_movies and non_french_movies"
   ]
  },
  {
   "cell_type": "code",
   "execution_count": null,
   "metadata": {},
   "outputs": [],
   "source": [
    "fig, ax = plt.subplots()\n",
    "fig.set_size_inches(11,15)\n",
    "\n",
    "plt.hist(non_french_movies.Av_Rating, label=\"Non French movies\", bins=50, alpha= 0.7, color='blue', density=True)\n",
    "plt.hist(french_movies.Av_Rating, label='French movies', bins=50, alpha= 0.7, color='orange', density=True)\n",
    "fig.suptitle('Fig2: Comparison French and non French movies by rating',fontweight='bold')\n",
    "plt.legend(['Non French','French'],loc='upper right')\n",
    "plt.show()"
   ]
  },
  {
   "cell_type": "markdown",
   "metadata": {},
   "source": [
    "Piechart with matplotlib using colors from seaborn. The function `get_genre_df` takes a movies data frame and produces a new one with one genre per row, plus a fixed _Count_ column used as input to the pie chart."
   ]
  },
  {
   "cell_type": "code",
   "execution_count": null,
   "metadata": {},
   "outputs": [],
   "source": [
    "def get_genre_df(movies_df):\n",
    "    result_df = pd.DataFrame(columns=['Genre', 'Count'])\n",
    "    for i, row in movies_df.iterrows():\n",
    "        for genre in str(row.Genres).split(','):\n",
    "            result_df.loc[len(result_df.index)] = [genre, 1]\n",
    "    return result_df\n",
    "\n",
    "french_genre_df = get_genre_df(french_movies).groupby(['Genre']).count()\n",
    "genres = list(set(french_genre_df.index.values))\n",
    "\n",
    "colors = sns.color_palette('pastel')\n",
    "\n",
    "fig, ax = plt.subplots()\n",
    "fig.set_size_inches(10,10)\n",
    "plt.pie(french_genre_df.Count, labels=genres, colors=colors, autopct='%.02f%%')\n",
    "fig.suptitle('Fig 3a: Percentage French Films by genre',fontweight='bold')\n",
    "plt.show()"
   ]
  },
  {
   "cell_type": "code",
   "execution_count": null,
   "metadata": {},
   "outputs": [],
   "source": [
    "def get_genre_df(movies_df):\n",
    "    result_df = pd.DataFrame(columns=['Genre', 'Count'])\n",
    "    for i, row in movies_df.iterrows():\n",
    "        for genre in str(row.Genres).split(','):\n",
    "            result_df.loc[len(result_df.index)] = [genre, 1]\n",
    "    return result_df\n",
    "\n",
    "non_french_genre_df = get_genre_df(non_french_movies).groupby(['Genre']).count()\n",
    "genres = list(set(non_french_genre_df.index.values))\n",
    "\n",
    "colors = sns.color_palette('pastel')\n",
    "\n",
    "fig, ax = plt.subplots()\n",
    "fig.set_size_inches(10,10)\n",
    "plt.pie(non_french_genre_df.Count, labels=genres, colors=colors, autopct='%.02f%%')\n",
    "fig.suptitle('Fig 3b: Percentage non French Films by genre',fontweight='bold')\n",
    "plt.show()"
   ]
  },
  {
   "cell_type": "markdown",
   "metadata": {},
   "source": [
    "Distribution by genres using Kdeplot in seaborn. "
   ]
  },
  {
   "cell_type": "code",
   "execution_count": null,
   "metadata": {},
   "outputs": [],
   "source": [
    "def get_genre_timeline_df(movies_df):\n",
    "    result_df = pd.DataFrame(columns=['Genre', 'Year'])\n",
    "    for i, row in movies_df.iterrows():\n",
    "        for genre in str(row.Genres).split(','):\n",
    "            result_df.loc[len(result_df.index)] = [genre, row.Year]\n",
    "    return result_df\n",
    "\n",
    "movies_genre_timeline_df = get_genre_timeline_df(df_movies)\n",
    "\n",
    "# sns.set(rc={'figure.figsize': (20, 20)})\n",
    "pal = sns.cubehelix_palette(10, rot=-.25, light=.7)\n",
    "g = sns.FacetGrid(movies_genre_timeline_df, row=\"Genre\", hue=\"Genre\", aspect=15, height=.5, palette=pal).set(title='Distribution genres by timeline')\n",
    "\n",
    "# Draw the densities in a few steps\n",
    "g.map(sns.kdeplot, \"Year\",\n",
    "      bw_adjust=.5, clip_on=False,\n",
    "      fill=True, alpha=1, linewidth=1.5)\n",
    "g.map(sns.kdeplot, \"Year\", clip_on=False, color=\"w\", lw=2, bw_adjust=.5)\n",
    "\n",
    "# passing color=None to refline() uses the hue mapping\n",
    "g.refline(y=0, linewidth=2, linestyle=\"-\", color=None, clip_on=False)\n",
    "\n",
    "\n",
    "# Define and use a simple function to label the plot in axes coordinates\n",
    "def label(x, color, label):\n",
    "    ax = plt.gca()\n",
    "    text = ax.text(0, .2, label, fontsize='x-large', fontweight=\"bold\", color=color, ha=\"left\", va=\"center\", transform=ax.transAxes)\n",
    "\n",
    "g.map(label, \"Year\")\n",
    "\n",
    "# Set the subplots to overlap\n",
    "# g.figure.subplots_adjust(hspace=0)\n",
    "g.figure.set_size_inches(10, 20)\n",
    "g.figure.tight_layout()\n",
    "\n",
    "# Remove axes details that don't play well with overlap\n",
    "g.set_titles(\"\")\n",
    "g.set(yticks=[], ylabel=\"\")\n",
    "g.despine(bottom=True, left=True)"
   ]
  },
  {
   "cell_type": "markdown",
   "metadata": {},
   "source": [
    "Set of boxenplots figures in seaborn, showing a number of quantiles defined as a letter values. The `boxenplot_by_genre` is a generic function that generates a boxenplot chart per individual genre of a given column, and allows us to generate different charts without having to repeat similar code each time. Diamonds represent the outliers. Also, genres has been sorted alphabetically."
   ]
  },
  {
   "cell_type": "code",
   "execution_count": null,
   "metadata": {},
   "outputs": [],
   "source": [
    "def get_info_by_genre(movies_df, column_name):\n",
    "    result_df = pd.DataFrame(columns=['Genre', column_name])\n",
    "    for i, row in movies_df.iterrows():\n",
    "        for genre in str(row.Genres).split(','):\n",
    "            result_df.loc[len(result_df.index)] = [genre, row[column_name]]\n",
    "    return result_df\n",
    "\n",
    "def boxenplot_by_genre(movies_df, column_name, title='', color='b'):\n",
    "    column_by_genre_df = get_info_by_genre(movies_df, column_name)\n",
    "\n",
    "    genres = list(column_by_genre_df.groupby(['Genre']).mean().sort_values(by=column_name, ascending=False).index.values)\n",
    "    genres = sorted(set(column_by_genre_df.Genre.values))  # sort alphabetically\n",
    "\n",
    "    sns.set(rc={\"figure.figsize\":(20, 15)})\n",
    "    sns.boxenplot(data=column_by_genre_df, y=\"Genre\", x=column_name, color=color, k_depth=4, order=genres, orient='h', scale=\"linear\").set(title=title)\n",
    "   \n",
    "    "
   ]
  },
  {
   "cell_type": "code",
   "execution_count": null,
   "metadata": {},
   "outputs": [],
   "source": [
    "boxenplot_by_genre(df_movies, 'Runtime', title='Fig4: Distribution of films by genre and rating', color='r')"
   ]
  },
  {
   "cell_type": "code",
   "execution_count": null,
   "metadata": {},
   "outputs": [],
   "source": [
    "boxenplot_by_genre(df_movies, 'Year', title='Fig5: Distribution of all the films genre by Year')"
   ]
  },
  {
   "cell_type": "code",
   "execution_count": null,
   "metadata": {},
   "outputs": [],
   "source": [
    "boxenplot_by_genre(french_movies, 'Year', title='Fig6: Distribution of French films genre by Year', color='g')\n"
   ]
  },
  {
   "cell_type": "code",
   "execution_count": null,
   "metadata": {},
   "outputs": [],
   "source": [
    "boxenplot_by_genre(french_movies, 'Av_Rating', title='Fig7.1: Distribution of French films genre by Average rating', color='y')"
   ]
  },
  {
   "cell_type": "code",
   "execution_count": null,
   "metadata": {},
   "outputs": [],
   "source": [
    "boxenplot_by_genre(non_french_movies, 'Av_Rating', title='Fig7.2: Distribution of non French films genre by Average rating', color='r')"
   ]
  },
  {
   "cell_type": "markdown",
   "metadata": {},
   "source": [
    "Seeking correlation between Runtime and Average rating with Bokeh. Films are coloured by French and non French."
   ]
  },
  {
   "cell_type": "code",
   "execution_count": null,
   "metadata": {},
   "outputs": [],
   "source": [
    "from turtle import color\n",
    "from bokeh.models import HoverTool\n",
    "from bokeh.plotting import figure, output_notebook, show\n",
    "\n",
    "tools = \"hover,save,pan,box_zoom,reset,wheel_zoom,help\"\n",
    "p = figure(plot_width=1500, plot_height=800, tools=tools, title= \"Fig8: Correlation between Runtime and Rating\")\n",
    "p.scatter(\"Runtime\", \"Av_Rating\", source=french_movies, color=\"orange\", legend_label='French Movies')\n",
    "p.scatter(\"Runtime\", \"Av_Rating\", source=non_french_movies, color=\"blue\", legend_label='Non-French movies')\n",
    "p.xaxis.axis_label = 'Runtime'\n",
    "p.yaxis.axis_label = 'Rating'\n",
    "p.legend.location = \"top_right\"\n",
    "\n",
    "hover = p.select(dict(type=HoverTool))\n",
    "hover.tooltips = [\n",
    "    (\"Title\", \"@{Title}\"),\n",
    "    (\"Runtime\", \"@{Runtime}\"),\n",
    "    (\"Rating\", \"@{Av_Rating}\"),\n",
    "]\n",
    "\n",
    "show(p)"
   ]
  }
 ],
 "metadata": {
  "kernelspec": {
   "display_name": "Python 3.9.12 ('base')",
   "language": "python",
   "name": "python3"
  },
  "language_info": {
   "codemirror_mode": {
    "name": "ipython",
    "version": 3
   },
   "file_extension": ".py",
   "mimetype": "text/x-python",
   "name": "python",
   "nbconvert_exporter": "python",
   "pygments_lexer": "ipython3",
   "version": "3.11.7"
  },
  "orig_nbformat": 4,
  "vscode": {
   "interpreter": {
    "hash": "ad2bdc8ecc057115af97d19610ffacc2b4e99fae6737bb82f5d7fb13d2f2c186"
   }
  }
 },
 "nbformat": 4,
 "nbformat_minor": 2
}
